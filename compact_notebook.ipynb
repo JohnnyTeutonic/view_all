{
 "cells": [
  {
   "cell_type": "code",
   "execution_count": null,
   "metadata": {},
   "outputs": [],
   "source": [
    "import os\n",
    "from gala import evaluate as ev, imio, viz, morpho, agglo, classify, features\n",
    "from skimage.util import regular_seeds\n",
    "from skimage import io\n",
    "import numpy as np\n",
    "from matplotlib import pyplot as plt\n",
    "os.chdir(\"/home/johnnyt/Documents/research_project_files/\")\n",
    "raw, gt = imio.read_cremi(\"Cremi_Data/sample_B_20160501.hdf\", datasets=['volumes/raw', 'volumes/labels/neuron_ids'])\n",
    "bpm = imio.read_h5_stack('raw_slice_1_Probabilities.h5', group='bpm_raw_b')\n",
    "membrane_prob = bpm[..., 2]\n",
    "train_slice = (slice(0, 15), slice(0, 480), slice(0, 480))\n",
    "test_slice = (slice(0, 15), slice(480, 960), slice(480, 960))\n",
    "gt_larger_2 = gt[train_slice]\n",
    "raw_larger_2 = 1-raw[train_slice]/255\n",
    "ws_larger_seeds_2 = regular_seeds(raw_larger_2[0].shape, n_points=700)\n",
    "ws_larger_seeds_2 = np.broadcast_to(ws_larger_seeds_2, raw_larger_2.shape)\n",
    "ws_larger_water = morpho.watershed_sequence(membrane_prob[train_slice], ws_larger_seeds_2, n_jobs=-1)\n",
    "raw_larger_testing_2 = membrane_prob[test_slice]\n",
    "gt_larger_testing_2 = gt[test_slice]\n",
    "gg = np.argsort(np.bincount(gt_larger_2.astype(int).ravel()))[-10:]\n",
    "sparse_large = imio.extract_segments(gt_larger_2, ids = gg)\n",
    "ws_larger_testing_2 = morpho.watershed_sequence(raw_larger_testing_2, ws_larger_seeds_2, n_jobs=-1)\n",
    "fm = features.moments.Manager()\n",
    "fh = features.histogram.Manager()\n",
    "fc = features.base.Composite(children=[fm, fh])\n",
    "g_train_larger_2 = agglo.Rag(ws_larger_water, bpm[train_slice], feature_manager=fc)\n",
    "(X2, y2, w2, merges2) = g_train_larger_2.learn_agglomerate(gt_larger_2, fc, classifier='logistic')[0]\n",
    "y2 = y2[:, 0]\n",
    "rf_log_large_2 = classify.get_classifier('logistic').fit(X2,y2)\n",
    "learned_policy_large_2 = agglo.classifier_probability(fc, rf_log_large_2)\n",
    "g_test_large_2 = agglo.Rag(ws_larger_testing_2, bpm[test_slice], feature_manager=fc, merge_priority_function=learned_policy_large_2)\n",
    "g_test_large_2.agglomerate(np.inf)\n",
    "seg_stack_large_2 = [g_test_large_2.get_segmentation(t) for t in np.arange(0,1, 0.01)]\n",
    "split_vi_score_large_2 = [ev.split_vi(seg_stack_large_2[t], gt_larger_testing_2) for t in range(len(seg_stack_large_2))]\n",
    "split_vi_array_2 = np.array(split_vi_score_large_2)\n",
    "imio.write_h5_stack(npy_vol=split_vi_array_2, compression='lzf', fn='stack_of_segs_20_10.h5')\n",
    "fig, (ax0, ax1, ax2) = plt.subplots(nrows=1, ncols=3, sharex=True, sharey=True)\n",
    "ax0.plot(split_vi_array_2[:, 1], split_vi_array_2[:, 0])\n",
    "target_segs = np.argsort(np.bincount(seg_stack_large_2[9].astype(int).ravel()))[-10:]\n",
    "ax1.plot(split_vi_array_2.sum(axis=1))\n",
    "ax0.set_aspect(1, adjustable='box-forced')\n",
    "ax1.set_aspect(1)\n",
    "ax2.set_aspect(1)\n",
    "ax2.imshow(raw_larger_2[0], alpha=1, cmap='gray')"
   ]
  }
 ],
 "metadata": {
  "kernelspec": {
   "display_name": "Python 3",
   "language": "python",
   "name": "python3"
  },
  "language_info": {
   "codemirror_mode": {
    "name": "ipython",
    "version": 3
   },
   "file_extension": ".py",
   "mimetype": "text/x-python",
   "name": "python",
   "nbconvert_exporter": "python",
   "pygments_lexer": "ipython3",
   "version": "3.6.3"
  }
 },
 "nbformat": 4,
 "nbformat_minor": 2
}
